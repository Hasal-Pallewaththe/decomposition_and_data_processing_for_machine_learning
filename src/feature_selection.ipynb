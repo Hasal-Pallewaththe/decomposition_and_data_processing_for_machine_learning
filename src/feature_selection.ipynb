{
 "cells": [
  {
   "attachments": {},
   "cell_type": "markdown",
   "metadata": {},
   "source": [
    "### Feature comptression and feature selction - using pca and other methods,"
   ]
  },
  {
   "cell_type": "code",
   "execution_count": null,
   "metadata": {},
   "outputs": [],
   "source": []
  }
 ],
 "metadata": {
  "kernelspec": {
   "display_name": "Python 3",
   "language": "python",
   "name": "python3"
  },
  "language_info": {
   "name": "python",
   "version": "3.9.5 (tags/v3.9.5:0a7dcbd, May  3 2021, 17:27:52) [MSC v.1928 64 bit (AMD64)]"
  },
  "orig_nbformat": 4,
  "vscode": {
   "interpreter": {
    "hash": "71b202ce2822e786ea4fdfe3f0305cc84db1dc345efe5c7a2eefa65cade9eecf"
   }
  }
 },
 "nbformat": 4,
 "nbformat_minor": 2
}
